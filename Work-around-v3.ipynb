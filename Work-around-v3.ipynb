{
 "cells": [
  {
   "cell_type": "code",
   "execution_count": 327,
   "id": "2a0ef358",
   "metadata": {},
   "outputs": [],
   "source": [
    "ACCOUNTING_NUMBERS = {\n",
    "    '1': '   '+\n",
    "         '  |'+\n",
    "         '  |',\n",
    "    '2': ' _ '+\n",
    "         ' _|'+\n",
    "         '|_ ',\n",
    "    '3': ' _ '+\n",
    "         ' _|'+\n",
    "         ' _|',\n",
    "    '4': ' _ '+\n",
    "         '|_|'+\n",
    "         '  |',\n",
    "    '5': ' _ '+\n",
    "         '|_ '+\n",
    "         ' _|',\n",
    "    '6': ' _ '+\n",
    "         '|_ '+\n",
    "         '|_|',\n",
    "    '7': ' _ '+\n",
    "         '  |'+\n",
    "         '  |',\n",
    "    '8': ' _ '+\n",
    "         '|_|'+\n",
    "         '|_|',\n",
    "    '9': ' _ '+\n",
    "         '|_|'+\n",
    "         ' _|',\n",
    "    \n",
    "    '0': ' _ '+\n",
    "         '| |'+\n",
    "         '|_|',\n",
    "    \n",
    "    'A': ' _ '+\n",
    "         '|_|'+\n",
    "         '| |',\n",
    "    \n",
    "    'B': ' _ '+\n",
    "         '|_\\\\'+\n",
    "         '|_/',\n",
    "    \n",
    "    'C': ' _ '+\n",
    "         '|  '+\n",
    "         '|_ ',\n",
    "    \n",
    "    'D': ' _ '+\n",
    "         '| \\\\'+\n",
    "         '|_/',\n",
    "    \n",
    "    'E': ' _ '+\n",
    "         '|_ '+\n",
    "         '|_ ',\n",
    "    \n",
    "    'F': ' _ '+\n",
    "         '|_ '+\n",
    "         '|  '\n",
    "}\n",
    "\n",
    "REVERSED_DB = {v: k for k, v in ACCOUNTING_NUMBERS.items()}"
   ]
  },
  {
   "cell_type": "code",
   "execution_count": 328,
   "id": "847a09f8",
   "metadata": {},
   "outputs": [],
   "source": [
    "def get_data(filename='printer_output.txt'):\n",
    "    with open(filename, 'r') as data:\n",
    "        return data.read()"
   ]
  },
  {
   "cell_type": "code",
   "execution_count": 450,
   "id": "6424da18",
   "metadata": {},
   "outputs": [],
   "source": [
    "def save_to_file(entries):\n",
    "    with open('outfile.txt', 'w') as outfile:\n",
    "        out = ''\n",
    "        for entry in entries:\n",
    "            original = entry[0]\n",
    "            sign = entry[1]\n",
    "            if len(entry) > 2:\n",
    "                text = f'{original} {sign} {str(entry[2])}'\n",
    "                out += text\n",
    "                print(text)\n",
    "            else:\n",
    "                text = f'{original} {sign}'\n",
    "                out += text\n",
    "                print(text)\n",
    "        outfile.write(out)\n",
    "        outfile.close()"
   ]
  },
  {
   "cell_type": "code",
   "execution_count": 451,
   "id": "e4ffbb11",
   "metadata": {},
   "outputs": [],
   "source": [
    "def get_match(joined_actual_rows):\n",
    "    unknown = '?'\n",
    "    value = REVERSED_DB.get(joined_actual_rows, unknown)\n",
    "    return value"
   ]
  },
  {
   "cell_type": "code",
   "execution_count": 452,
   "id": "a6af92c2",
   "metadata": {},
   "outputs": [],
   "source": [
    "def replace_char_at_index(org_str, index, replacement):\n",
    "    new_str = org_str\n",
    "    if index < len(org_str):\n",
    "        new_str = org_str[0:index] + replacement + org_str[index + 1:]\n",
    "    return new_str\n"
   ]
  },
  {
   "cell_type": "code",
   "execution_count": 453,
   "id": "f83db569",
   "metadata": {},
   "outputs": [],
   "source": [
    "def calc_checksum(entry_num):\n",
    "    valid = True\n",
    "    sum_ = 0\n",
    "    for i in range(1, len(entry_num)+1):\n",
    "        multi = 10 - i\n",
    "        num = entry_num[i - 1]\n",
    "        sum_ += multi * int(num, 16)\n",
    "        valid = sum_ % 11 == 0\n",
    "    return valid"
   ]
  },
  {
   "cell_type": "code",
   "execution_count": 454,
   "id": "eefb117b",
   "metadata": {},
   "outputs": [],
   "source": [
    "def collect_account_numbers(max_digit = 9):\n",
    "    entries = get_data().split('\\n\\n')\n",
    "    output = []\n",
    "    collection = []\n",
    "    for entry in entries:\n",
    "        collection_inner = []\n",
    "        start = 0\n",
    "        end = 3\n",
    "        number = ''\n",
    "        joined_actual_rows = ''\n",
    "        for i in range(max_digit):\n",
    "            current_digits = []\n",
    "            actual_rows = []\n",
    "            for row in entry.split('\\n'):\n",
    "                if len(row) > 0:\n",
    "                    current_slice = ''.join(row[start:end])\n",
    "                    actual_rows.append(current_slice)\n",
    "                    joined_actual_rows = ''.join(actual_rows)\n",
    "                    current_digits.append(joined_actual_rows)\n",
    "            \n",
    "            collection_inner.append(joined_actual_rows)\n",
    "            value = get_match(joined_actual_rows)\n",
    "            start += 3\n",
    "            end += 3\n",
    "            number += value\n",
    "        collection.append((collection_inner, number))\n",
    "        \n",
    "        start, end = 0, 3\n",
    "        output.append(number)\n",
    "        number = ''\n",
    "    #print(collection)\n",
    "    return collection"
   ]
  },
  {
   "cell_type": "code",
   "execution_count": 455,
   "id": "c1800c2d",
   "metadata": {},
   "outputs": [],
   "source": [
    "from itertools import product\n",
    "\n",
    "def start_validation(number_strings, nums):\n",
    "    fixed_unvalid = []\n",
    "    replacements = ['|', '_', ' ']\n",
    "    unknown = '?'\n",
    "    valid = True\n",
    "    illegal = False\n",
    "    if unknown in nums:\n",
    "        illegal = True\n",
    "    else:\n",
    "        valid = calc_checksum(nums)\n",
    "\n",
    "    if not valid:\n",
    "        possible_numbers = []\n",
    "        for i, (num, num_string) in enumerate(zip(nums, number_strings)):\n",
    "            for j, char in enumerate(num_string):\n",
    "                for replacement in replacements:\n",
    "                    if replacement != char:\n",
    "                        new_entry = replace_char_at_index(num_string, j, replacement)\n",
    "                        possible_number = get_match(new_entry)\n",
    "                        if possible_number != unknown:\n",
    "                            possible_numbers.append(nums[:i] + possible_number + nums[i + 1:])\n",
    "        \n",
    "        valid_combinations = list(filter(calc_checksum, possible_numbers))\n",
    "\n",
    "    elif illegal:\n",
    "        possible_numbers = []\n",
    "        for num, num_string in zip(nums, number_strings):\n",
    "            if num != unknown:\n",
    "                possible_numbers.append([num])\n",
    "                continue\n",
    "            \n",
    "            possible_values = []\n",
    "            for i, char in enumerate(num_string):\n",
    "                for replacement in replacements:\n",
    "                    if replacement != char:\n",
    "                        new_entry = replace_char_at_index(num_string, i, replacement)\n",
    "                        possible_number = get_match(new_entry)\n",
    "                        if possible_number != unknown:\n",
    "                            possible_values.append(possible_number)\n",
    "            possible_numbers.append(possible_values)\n",
    "        \n",
    "        possible_numbers = list(product(*possible_numbers))\n",
    "        valid_combinations = list(filter(calc_checksum, possible_numbers))\n",
    "\n",
    "    else:\n",
    "        valid_combinations = [nums]\n",
    "\n",
    "    if len(valid_combinations) == 1:\n",
    "        return ''.join(valid_combinations[0]), ''\n",
    "    elif len(valid_combinations) == 0:\n",
    "        if unknown in nums:\n",
    "            return nums, 'ILL'\n",
    "        else:\n",
    "            return nums, 'ERR'\n",
    "    else:\n",
    "        return nums, 'AMB', valid_combinations"
   ]
  },
  {
   "cell_type": "code",
   "execution_count": 456,
   "id": "564aa93d",
   "metadata": {},
   "outputs": [],
   "source": [
    "def get_validate(entries):\n",
    "    validated = []\n",
    "    for entry in entries:\n",
    "        entry_num = start_validation(*entry)\n",
    "        #print(f\"entry: {entry[0]} result: {entry_num}\")\n",
    "        validated.append(entry_num)\n",
    "    \n",
    "    save_to_file(validated)\n"
   ]
  },
  {
   "cell_type": "code",
   "execution_count": 457,
   "id": "28d44c64",
   "metadata": {},
   "outputs": [
    {
     "name": "stdout",
     "output_type": "stream",
     "text": [
      "123456789 \n",
      "000000000 \n",
      "666666666 AMB ['686666666', '666566666', '6666666E6']\n",
      "444444444 AMB ['494444444', '444444A44']\n",
      "999999999 AMB ['899999999', '993999999', '999959999', '999994999']\n",
      "?90067715 ILL\n",
      "000000000 \n",
      "711111111 \n",
      "222222222 ERR\n",
      "333393333 \n",
      "????????? ILL\n",
      "555555555 AMB ['559555555', '555655555']\n",
      "666666666 AMB ['686666666', '666566666', '6666666E6']\n",
      "777777177 \n",
      "888888888 AMB ['88A888888', '888886888', '888888988', '888888880']\n",
      "999999999 AMB ['899999999', '993999999', '999959999', '999994999']\n",
      "000000051 \n",
      "?9006771? ILL\n",
      "711111111 \n",
      "777777177 \n",
      "200800000 \n",
      "333393333 \n",
      "888888888 AMB ['88A888888', '888886888', '888888988', '888888880']\n",
      "555555555 AMB ['559555555', '555655555']\n",
      "666666666 AMB ['686666666', '666566666', '6666666E6']\n",
      "999999999 AMB ['899999999', '993999999', '999959999', '999994999']\n",
      "?90067715 ILL\n",
      "000000051 \n",
      "ABC000051 AMB ['ABC000851', 'ABC000061']\n",
      "DEF080051 \n"
     ]
    }
   ],
   "source": [
    "get_validate(entries=collect_account_numbers())\n"
   ]
  },
  {
   "cell_type": "code",
   "execution_count": 449,
   "id": "39b61ddc",
   "metadata": {},
   "outputs": [
    {
     "data": {
      "text/plain": [
       "59844853841"
      ]
     },
     "execution_count": 449,
     "metadata": {},
     "output_type": "execute_result"
    }
   ],
   "source": [
    "int('DEF080051',16)\n"
   ]
  },
  {
   "cell_type": "code",
   "execution_count": null,
   "id": "43dbac77",
   "metadata": {},
   "outputs": [],
   "source": []
  },
  {
   "cell_type": "code",
   "execution_count": null,
   "id": "12163312",
   "metadata": {},
   "outputs": [],
   "source": []
  },
  {
   "cell_type": "code",
   "execution_count": null,
   "id": "bff04e29",
   "metadata": {},
   "outputs": [],
   "source": []
  },
  {
   "cell_type": "code",
   "execution_count": null,
   "id": "af20d967",
   "metadata": {},
   "outputs": [],
   "source": []
  },
  {
   "cell_type": "code",
   "execution_count": null,
   "id": "2a24c685",
   "metadata": {},
   "outputs": [],
   "source": []
  },
  {
   "cell_type": "code",
   "execution_count": null,
   "id": "56ffd02a",
   "metadata": {},
   "outputs": [],
   "source": []
  },
  {
   "cell_type": "code",
   "execution_count": null,
   "id": "6d6fddf5",
   "metadata": {},
   "outputs": [],
   "source": []
  },
  {
   "cell_type": "code",
   "execution_count": null,
   "id": "1b116ae3",
   "metadata": {},
   "outputs": [],
   "source": []
  },
  {
   "cell_type": "code",
   "execution_count": null,
   "id": "8ccea2e5",
   "metadata": {},
   "outputs": [],
   "source": []
  },
  {
   "cell_type": "code",
   "execution_count": null,
   "id": "24f61961",
   "metadata": {},
   "outputs": [],
   "source": []
  },
  {
   "cell_type": "code",
   "execution_count": null,
   "id": "3d113b2a",
   "metadata": {},
   "outputs": [],
   "source": []
  },
  {
   "cell_type": "code",
   "execution_count": null,
   "id": "9c76ff4a",
   "metadata": {},
   "outputs": [],
   "source": []
  }
 ],
 "metadata": {
  "kernelspec": {
   "display_name": "Python 3",
   "language": "python",
   "name": "python3"
  },
  "language_info": {
   "codemirror_mode": {
    "name": "ipython",
    "version": 3
   },
   "file_extension": ".py",
   "mimetype": "text/x-python",
   "name": "python",
   "nbconvert_exporter": "python",
   "pygments_lexer": "ipython3",
   "version": "3.8.5"
  }
 },
 "nbformat": 4,
 "nbformat_minor": 5
}
