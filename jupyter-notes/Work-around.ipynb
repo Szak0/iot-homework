{
 "cells": [
  {
   "cell_type": "code",
   "execution_count": null,
   "id": "51bb57cf",
   "metadata": {},
   "outputs": [],
   "source": [
    "input_path = 'printer_output.txt'\n",
    "data = open(input_path)\n",
    "lines = data.read().splitlines()"
   ]
  },
  {
   "cell_type": "code",
   "execution_count": null,
   "id": "a52cab27",
   "metadata": {},
   "outputs": [],
   "source": [
    "print(lines)"
   ]
  },
  {
   "cell_type": "code",
   "execution_count": null,
   "id": "239da5fd",
   "metadata": {
    "scrolled": false
   },
   "outputs": [],
   "source": [
    "number_rows = []\n",
    "current_row = []\n",
    "for i in range(len(lines)):\n",
    "    print(len(lines))\n",
    "    current_line = lines[i]\n",
    "    current_line_l = list(current_line)\n",
    "    \n",
    "    if current_line != \"\":\n",
    "        print(current_line)\n",
    "        current_row.append(current_line_l)\n",
    "    else:\n",
    "        print(current_row)\n",
    "        number_rows.append(current_row)\n",
    "        current_row = []\n",
    "    \n",
    "\n",
    "print(number_rows)\n",
    "    "
   ]
  },
  {
   "cell_type": "code",
   "execution_count": null,
   "id": "66e42989",
   "metadata": {
    "scrolled": true
   },
   "outputs": [],
   "source": [
    "dict_num = {'1': '     |  |',\n",
    "            '2': ' _  _||_ ',\n",
    "            '3': ' _  _| _|',\n",
    "            '4': ' _ |_|  |',\n",
    "            '5': ' _ |_  _|',\n",
    "            '6': ' _ |_ |_|',\n",
    "            '7': ' _   |  |',\n",
    "            '8': ' _ |_||_|',\n",
    "            '9': ' _ |_| _|'}\n",
    "\n",
    "key_list = list(dict_num.keys())\n",
    "val_list = list(dict_num.values())\n",
    "\n",
    "parsed_db = {}\n",
    "\n",
    "max_digit = 9\n",
    "start = 0\n",
    "end = 3\n",
    "\n",
    "for i in range(max_digit):\n",
    "    \n",
    "    actual_num = []\n",
    "    \n",
    "    for el in string_list:\n",
    "        \n",
    "        if len(el) > 0:\n",
    "            \n",
    "            current_row = \"\".join(el[start:end])\n",
    "            actual_num.append(current_row)\n",
    "            print(current_row)\n",
    "\n",
    "    current_joined = \"\".join(actual_num)\n",
    "    \n",
    "    \n",
    "    print(current_joined)\n",
    "    \n",
    "    position = val_list.index(current_joined)\n",
    "    value = key_list[position]\n",
    "    \n",
    "    print(f'%s:%s' % (start, end))\n",
    "    parsed_db[value] = current_joined\n",
    "    \n",
    "    start += 3\n",
    "    end += 3\n",
    "    \n",
    "    del actual_num\n",
    "    \n",
    "print(parsed_db)"
   ]
  },
  {
   "cell_type": "code",
   "execution_count": null,
   "id": "0a507543",
   "metadata": {},
   "outputs": [],
   "source": [
    "def collect_account_numbers(max_digit = 9):\n",
    "    entries = group_by_entry()\n",
    "    start = 0\n",
    "    end = 3\n",
    "    number = ''\n",
    "    output = []\n",
    "    \n",
    "    for entry in entries:\n",
    "        print(entry)\n",
    "        joined_actual_rows = ''\n",
    "        for i in range(max_digit):\n",
    "\n",
    "            actual_rows = []\n",
    "            for row in entry:\n",
    "                if len(row) > 0:\n",
    "                    current_slice = ''.join(row[start:end])\n",
    "                    actual_rows.append(current_slice)\n",
    "                    \n",
    "            joined_actual_rows = ''.join(actual_rows)\n",
    "            del actual_rows\n",
    "\n",
    "            value = get_match(joined_actual_rows)\n",
    "\n",
    "            start += 3\n",
    "            end += 3\n",
    "            number += value\n",
    "\n",
    "        start, end = 0, 3\n",
    "        output.append(number)\n",
    "        number = ''\n",
    "    return output\n"
   ]
  },
  {
   "cell_type": "code",
   "execution_count": null,
   "id": "87dff17e",
   "metadata": {},
   "outputs": [],
   "source": []
  },
  {
   "cell_type": "code",
   "execution_count": null,
   "id": "16bd3ab9",
   "metadata": {},
   "outputs": [],
   "source": []
  }
 ],
 "metadata": {
  "kernelspec": {
   "display_name": "Python 3",
   "language": "python",
   "name": "python3"
  },
  "language_info": {
   "codemirror_mode": {
    "name": "ipython",
    "version": 3
   },
   "file_extension": ".py",
   "mimetype": "text/x-python",
   "name": "python",
   "nbconvert_exporter": "python",
   "pygments_lexer": "ipython3",
   "version": "3.8.5"
  }
 },
 "nbformat": 4,
 "nbformat_minor": 5
}
