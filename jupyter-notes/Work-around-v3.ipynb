{
 "cells": [
  {
   "cell_type": "code",
   "execution_count": 327,
   "id": "1c80cdb0",
   "metadata": {},
   "outputs": [],
   "source": [
    "ACCOUNTING_NUMBERS = {\n",
    "    '1': '   '+\n",
    "         '  |'+\n",
    "         '  |',\n",
    "    '2': ' _ '+\n",
    "         ' _|'+\n",
    "         '|_ ',\n",
    "    '3': ' _ '+\n",
    "         ' _|'+\n",
    "         ' _|',\n",
    "    '4': ' _ '+\n",
    "         '|_|'+\n",
    "         '  |',\n",
    "    '5': ' _ '+\n",
    "         '|_ '+\n",
    "         ' _|',\n",
    "    '6': ' _ '+\n",
    "         '|_ '+\n",
    "         '|_|',\n",
    "    '7': ' _ '+\n",
    "         '  |'+\n",
    "         '  |',\n",
    "    '8': ' _ '+\n",
    "         '|_|'+\n",
    "         '|_|',\n",
    "    '9': ' _ '+\n",
    "         '|_|'+\n",
    "         ' _|',\n",
    "    \n",
    "    '0': ' _ '+\n",
    "         '| |'+\n",
    "         '|_|',\n",
    "    \n",
    "    'A': ' _ '+\n",
    "         '|_|'+\n",
    "         '| |',\n",
    "    \n",
    "    'B': ' _ '+\n",
    "         '|_\\\\'+\n",
    "         '|_/',\n",
    "    \n",
    "    'C': ' _ '+\n",
    "         '|  '+\n",
    "         '|_ ',\n",
    "    \n",
    "    'D': ' _ '+\n",
    "         '| \\\\'+\n",
    "         '|_/',\n",
    "    \n",
    "    'E': ' _ '+\n",
    "         '|_ '+\n",
    "         '|_ ',\n",
    "    \n",
    "    'F': ' _ '+\n",
    "         '|_ '+\n",
    "         '|  '\n",
    "}\n",
    "\n",
    "REVERSED_DB = {v: k for k, v in ACCOUNTING_NUMBERS.items()}"
   ]
  },
  {
   "cell_type": "code",
   "execution_count": 328,
   "id": "2e1031bd",
   "metadata": {},
   "outputs": [],
   "source": [
    "def get_data(filename='printer_output.txt'):\n",
    "    with open(filename, 'r') as data:\n",
    "        return data.read()"
   ]
  },
  {
   "cell_type": "code",
   "execution_count": 460,
   "id": "4d7f0706",
   "metadata": {},
   "outputs": [],
   "source": [
    "def save_to_file(entries):\n",
    "    with open('outfile.txt', 'w') as outfile:\n",
    "        out = ''\n",
    "        for entry in entries:\n",
    "            original = entry[0]\n",
    "            sign = entry[1]\n",
    "            if len(entry) > 2:\n",
    "                text = f'{original} {sign} {str(entry[2])}'\n",
    "                out += text + '\\n'\n",
    "                print(text)\n",
    "            else:\n",
    "                text = f'{original} {sign}'\n",
    "                out += text + '\\n'\n",
    "                print(text)\n",
    "        outfile.write(out)\n",
    "        outfile.close()"
   ]
  },
  {
   "cell_type": "code",
   "execution_count": 461,
   "id": "00e1d9c4",
   "metadata": {},
   "outputs": [],
   "source": [
    "def get_match(joined_actual_rows):\n",
    "    unknown = '?'\n",
    "    value = REVERSED_DB.get(joined_actual_rows, unknown)\n",
    "    return value"
   ]
  },
  {
   "cell_type": "code",
   "execution_count": 462,
   "id": "c65ded43",
   "metadata": {},
   "outputs": [],
   "source": [
    "def replace_char_at_index(org_str, index, replacement):\n",
    "    new_str = org_str\n",
    "    if index < len(org_str):\n",
    "        new_str = org_str[0:index] + replacement + org_str[index + 1:]\n",
    "    return new_str\n"
   ]
  },
  {
   "cell_type": "code",
   "execution_count": 463,
   "id": "473f8558",
   "metadata": {},
   "outputs": [],
   "source": [
    "def calc_checksum(entry_num):\n",
    "    valid = True\n",
    "    sum_ = 0\n",
    "    for i in range(1, len(entry_num)+1):\n",
    "        multi = 10 - i\n",
    "        num = entry_num[i - 1]\n",
    "        sum_ += multi * int(num, 16)\n",
    "        valid = sum_ % 11 == 0\n",
    "    return valid"
   ]
  },
  {
   "cell_type": "code",
   "execution_count": 527,
   "id": "b7d4bf74",
   "metadata": {},
   "outputs": [],
   "source": [
    "def collect_account_numbers(max_digit = 9):\n",
    "    entries = get_data().split('\\n\\n')\n",
    "    output = []\n",
    "    collection = []\n",
    "    for entry in entries:\n",
    "        collection_inner = []\n",
    "        start = 0\n",
    "        end = 3\n",
    "        number = ''\n",
    "        joined_actual_rows = ''\n",
    "        for i in range(max_digit):\n",
    "            current_digits = []\n",
    "            actual_rows = []\n",
    "            for row in entry.split('\\n'):\n",
    "                if len(row) > 0:\n",
    "                    current_slice = ''.join(row[start:end])\n",
    "                    actual_rows.append(current_slice)\n",
    "                    joined_actual_rows = ''.join(actual_rows)\n",
    "                    current_digits.append(joined_actual_rows)\n",
    "            \n",
    "            collection_inner.append(joined_actual_rows)\n",
    "            value = get_match(joined_actual_rows)\n",
    "            start += 3\n",
    "            end += 3\n",
    "            number += value\n",
    "        collection.append((collection_inner, number))\n",
    "        \n",
    "        start, end = 0, 3\n",
    "        output.append(number)\n",
    "        number = ''\n",
    "    #print(collection)\n",
    "    return collection"
   ]
  },
  {
   "cell_type": "code",
   "execution_count": 528,
   "id": "6a6e0dfd",
   "metadata": {},
   "outputs": [],
   "source": [
    "from itertools import product\n",
    "\n",
    "def start_validation(number_strings, nums):\n",
    "    fixed_unvalid = []\n",
    "    replacements = ['|', '_', ' ', '/', '\\\\']\n",
    "    unknown = '?'\n",
    "    valid = True\n",
    "    illegal = False\n",
    "    if unknown in nums:\n",
    "        illegal = True\n",
    "    else:\n",
    "        valid = calc_checksum(nums)\n",
    "    if not valid:\n",
    "        possible_numbers = []\n",
    "        for i, (num, num_string) in enumerate(zip(nums, number_strings)):\n",
    "            for j, char in enumerate(num_string):\n",
    "                for replacement in replacements:\n",
    "                    if replacement != char:\n",
    "                        new_entry = replace_char_at_index(num_string, j, replacement)\n",
    "                        possible_number = get_match(new_entry)\n",
    "                        if possible_number != unknown:\n",
    "                            possible_numbers.append(nums[:i] + possible_number + nums[i + 1:])\n",
    "        valid_combinations = list(filter(calc_checksum, possible_numbers))\n",
    "\n",
    "    elif illegal:\n",
    "        possible_numbers = []\n",
    "        for num, num_string in zip(nums, number_strings):\n",
    "            if num != unknown:\n",
    "                possible_numbers.append([num])\n",
    "                continue\n",
    "            possible_values = []\n",
    "            for i, char in enumerate(num_string):\n",
    "                for replacement in replacements:\n",
    "                    if replacement != char:\n",
    "                        new_entry = replace_char_at_index(num_string, i, replacement)\n",
    "                        possible_number = get_match(new_entry)\n",
    "                        if possible_number != unknown:\n",
    "                            possible_values.append(possible_number)\n",
    "            possible_numbers.append(possible_values)\n",
    "            \n",
    "        print('-------possible_numbers---------')    \n",
    "        print(possible_numbers)\n",
    "        print('----------------')\n",
    "        possible_numbers = list(product(*possible_numbers))\n",
    "        print('--------possible_numbers= product--------')\n",
    "        print(possible_numbers)\n",
    "        valid_combinations = list(filter(calc_checksum, possible_numbers))\n",
    "\n",
    "    else:\n",
    "        valid_combinations = [nums]\n",
    "\n",
    "    if len(valid_combinations) == 1:\n",
    "        return ''.join(valid_combinations[0]), ''\n",
    "    elif len(valid_combinations) == 0:\n",
    "        if unknown in nums:\n",
    "            return nums, 'ILL'\n",
    "        else:\n",
    "            return nums, 'ERR'\n",
    "    else:\n",
    "        return nums, 'AMB', valid_combinations"
   ]
  },
  {
   "cell_type": "code",
   "execution_count": 529,
   "id": "f6cf8277",
   "metadata": {},
   "outputs": [],
   "source": [
    "def get_validate(entries):\n",
    "    print(entries)\n",
    "    validated = []\n",
    "    for entry in entries:\n",
    "        entry_num = start_validation(*entry)\n",
    "        #print(f\"entry: {entry[0]} result: {entry_num}\")\n",
    "        validated.append(entry_num)\n",
    "    \n",
    "    save_to_file(validated)\n"
   ]
  },
  {
   "cell_type": "code",
   "execution_count": 530,
   "id": "50cb0c34",
   "metadata": {
    "scrolled": true
   },
   "outputs": [
    {
     "name": "stdout",
     "output_type": "stream",
     "text": [
      "[(['     |  |', ' _  _||_ ', ' _  _| _|', ' _ |_|  |', ' _ |_  _|', ' _ |_ |_|', ' _   |  |', ' _ |_||_|', ' _ |_| _|'], '123456789'), ([' _ | ||_|', ' _ | ||_|', ' _ | ||_|', ' _ | ||_|', ' _ | ||_|', ' _ | ||_|', ' _ | ||_|', ' _ | ||_|', ' _ | ||_|'], '000000000'), ([' _ |_ |_|', ' _ |_ |_|', ' _ |_ |_|', ' _ |_ |_|', ' _ |_ |_|', ' _ |_ |_|', ' _ |_ |_|', ' _ |_ |_|', ' _ |_ |_|'], '666666666'), ([' _ |_|  |', ' _ |_|  |', ' _ |_|  |', ' _ |_|  |', ' _ |_|  |', ' _ |_|  |', ' _ |_|  |', ' _ |_|  |', ' _ |_|  |'], '444444444'), ([' _ |_| _|', ' _ |_| _|', ' _ |_| _|', ' _ |_| _|', ' _ |_| _|', ' _ |_| _|', ' _ |_| _|', ' _ |_| _|', ' _ |_| _|'], '999999999'), (['   |_|  |', ' _ |_| _|', ' _ | ||_|', ' _ | ||_|', ' _ |_ |_|', ' _   |  |', ' _   |  |', '     |  |', ' _ |_  _|'], '?90067715'), ([' _ | ||_|', ' _ | ||_|', ' _ | ||_|', ' _ | ||_|', ' _ | ||_|', ' _ | ||_|', ' _ | ||_|', ' _ | ||_|', ' _ | ||_|'], '000000000'), (['     |  |', '     |  |', '     |  |', '     |  |', '     |  |', '     |  |', '     |  |', '     |  |', '     |  |'], '111111111'), ([' _  _||_ ', ' _  _||_ ', ' _  _||_ ', ' _  _||_ ', ' _  _||_ ', ' _  _||_ ', ' _  _||_ ', ' _  _||_ ', ' _  _||_ '], '222222222'), ([' _  _| _|', ' _  _| _|', ' _  _| _|', ' _  _| _|', ' _  _| _|', ' _  _| _|', ' _  _| _|', ' _  _| _|', ' _  _| _|'], '333333333'), (['   |_|  |', '   |_|  |', '   |_|  |', '   |_|  |', '   |_|  |', '   |_|  |', '   |_|  |', '   |_|  |', '   |_|  |'], '?????????'), ([' _ |_  _|', ' _ |_  _|', ' _ |_  _|', ' _ |_  _|', ' _ |_  _|', ' _ |_  _|', ' _ |_  _|', ' _ |_  _|', ' _ |_  _|'], '555555555'), ([' _ |_ |_|', ' _ |_ |_|', ' _ |_ |_|', ' _ |_ |_|', ' _ |_ |_|', ' _ |_ |_|', ' _ |_ |_|', ' _ |_ |_|', ' _ |_ |_|'], '666666666'), ([' _   |  |', ' _   |  |', ' _   |  |', ' _   |  |', ' _   |  |', ' _   |  |', ' _   |  |', ' _   |  |', ' _   |  |'], '777777777'), ([' _ |_||_|', ' _ |_||_|', ' _ |_||_|', ' _ |_||_|', ' _ |_||_|', ' _ |_||_|', ' _ |_||_|', ' _ |_||_|', ' _ |_||_|'], '888888888'), ([' _ |_| _|', ' _ |_| _|', ' _ |_| _|', ' _ |_| _|', ' _ |_| _|', ' _ |_| _|', ' _ |_| _|', ' _ |_| _|', ' _ |_| _|'], '999999999'), ([' _ | ||_|', ' _ | ||_|', ' _ | ||_|', ' _ | ||_|', ' _ | ||_|', ' _ | ||_|', ' _ | ||_|', ' _ |_  _|', '     |  |'], '000000051'), (['   |_|  |', ' _ |_| _|', ' _ | ||_|', ' _ | ||_|', ' _ |_ |_|', ' _   |  |', ' _   |  |', '     |  |', ' _  _  _|'], '?9006771?'), (['     |  |', '     |  |', '     |  |', '     |  |', '     |  |', '     |  |', '     |  |', '     |  |', '     |  |'], '111111111'), ([' _   |  |', ' _   |  |', ' _   |  |', ' _   |  |', ' _   |  |', ' _   |  |', ' _   |  |', ' _   |  |', ' _   |  |'], '777777777'), ([' _  _||_ ', ' _ | ||_|', ' _ | ||_|', ' _ | ||_|', ' _ | ||_|', ' _ | ||_|', ' _ | ||_|', ' _ | ||_|', ' _ | ||_|'], '200000000'), ([' _  _| _|', ' _  _| _|', ' _  _| _|', ' _  _| _|', ' _  _| _|', ' _  _| _|', ' _  _| _|', ' _  _| _|', ' _  _| _|'], '333333333'), ([' _ |_||_|', ' _ |_||_|', ' _ |_||_|', ' _ |_||_|', ' _ |_||_|', ' _ |_||_|', ' _ |_||_|', ' _ |_||_|', ' _ |_||_|'], '888888888'), ([' _ |_  _|', ' _ |_  _|', ' _ |_  _|', ' _ |_  _|', ' _ |_  _|', ' _ |_  _|', ' _ |_  _|', ' _ |_  _|', ' _ |_  _|'], '555555555'), ([' _ |_ |_|', ' _ |_ |_|', ' _ |_ |_|', ' _ |_ |_|', ' _ |_ |_|', ' _ |_ |_|', ' _ |_ |_|', ' _ |_ |_|', ' _ |_ |_|'], '666666666'), ([' _ |_| _|', ' _ |_| _|', ' _ |_| _|', ' _ |_| _|', ' _ |_| _|', ' _ |_| _|', ' _ |_| _|', ' _ |_| _|', ' _ |_| _|'], '999999999'), (['   |_|  |', ' _ |_| _|', ' _ | ||_|', ' _ | ||_|', ' _ |_ |_|', ' _   |  |', ' _   |  |', '     |  |', ' _ |_  _|'], '?90067715'), ([' _ | ||_|', '   | ||_|', ' _ | ||_|', ' _ | ||_|', ' _ | ||_|', ' _ | ||_|', ' _ | ||_|', ' _ |_  _|', '     |  |'], '0?0000051'), ([' _ |_|| |', ' _ |_\\\\|_/', ' _ |  |_ ', ' _ | ||_|', ' _ | ||_|', ' _ | ||_|', ' _ | ||_|', ' _ |_  _|', '     |  |'], 'ABC000051'), ([' _ | \\\\|_/', ' _ |_ |_ ', ' _ |_ |  ', ' _ | ||_|', ' _ | ||_|', ' _ | ||_|', ' _ | ||_|', ' _ |_  _|', '     |  |'], 'DEF000051')]\n",
      "-------possible_numbers---------\n",
      "[['4'], ['9'], ['0'], ['0'], ['6'], ['7'], ['7'], ['1'], ['5']]\n",
      "----------------\n",
      "--------possible_numbers= product--------\n",
      "[('4', '9', '0', '0', '6', '7', '7', '1', '5')]\n",
      "-------possible_numbers---------\n",
      "[['4'], ['4'], ['4'], ['4'], ['4'], ['4'], ['4'], ['4'], ['4']]\n",
      "----------------\n",
      "--------possible_numbers= product--------\n",
      "[('4', '4', '4', '4', '4', '4', '4', '4', '4')]\n",
      "-------possible_numbers---------\n",
      "[['4'], ['9'], ['0'], ['0'], ['6'], ['7'], ['7'], ['1'], ['5', '3']]\n",
      "----------------\n",
      "--------possible_numbers= product--------\n",
      "[('4', '9', '0', '0', '6', '7', '7', '1', '5'), ('4', '9', '0', '0', '6', '7', '7', '1', '3')]\n",
      "-------possible_numbers---------\n",
      "[['4'], ['9'], ['0'], ['0'], ['6'], ['7'], ['7'], ['1'], ['5']]\n",
      "----------------\n",
      "--------possible_numbers= product--------\n",
      "[('4', '9', '0', '0', '6', '7', '7', '1', '5')]\n",
      "-------possible_numbers---------\n",
      "[['0'], ['0'], ['0'], ['0'], ['0'], ['0'], ['0'], ['5'], ['1']]\n",
      "----------------\n",
      "--------possible_numbers= product--------\n",
      "[('0', '0', '0', '0', '0', '0', '0', '5', '1')]\n",
      "123456789 \n",
      "000000000 \n",
      "666666666 AMB ['686666666', '666566666', '6666666E6']\n",
      "444444444 AMB ['494444444', '444444A44']\n",
      "999999999 AMB ['899999999', '993999999', '999959999', '999994999']\n",
      "?90067715 ILL\n",
      "000000000 \n",
      "711111111 \n",
      "222222222 ERR\n",
      "333393333 \n",
      "????????? ILL\n",
      "555555555 AMB ['559555555', '555655555']\n",
      "666666666 AMB ['686666666', '666566666', '6666666E6']\n",
      "777777177 \n",
      "888888888 AMB ['88A888888', '888886888', '888888988', '888888880']\n",
      "999999999 AMB ['899999999', '993999999', '999959999', '999994999']\n",
      "000000051 \n",
      "?9006771? ILL\n",
      "711111111 \n",
      "777777177 \n",
      "200800000 \n",
      "333393333 \n",
      "888888888 AMB ['88A888888', '888886888', '888888988', '888888880']\n",
      "555555555 AMB ['559555555', '555655555']\n",
      "666666666 AMB ['686666666', '666566666', '6666666E6']\n",
      "999999999 AMB ['899999999', '993999999', '999959999', '999994999']\n",
      "?90067715 ILL\n",
      "000000051 \n",
      "ABC000051 AMB ['ABC000851', 'ABC000061']\n",
      "DEF080051 \n"
     ]
    }
   ],
   "source": [
    "get_validate(entries=collect_account_numbers())\n"
   ]
  },
  {
   "cell_type": "code",
   "execution_count": 523,
   "id": "c3182437",
   "metadata": {},
   "outputs": [
    {
     "data": {
      "text/plain": [
       "59844853841"
      ]
     },
     "execution_count": 523,
     "metadata": {},
     "output_type": "execute_result"
    }
   ],
   "source": [
    "int('DEF080051',16)\n"
   ]
  },
  {
   "cell_type": "code",
   "execution_count": 532,
   "id": "d516f2d5",
   "metadata": {},
   "outputs": [
    {
     "data": {
      "text/plain": [
       "True"
      ]
     },
     "execution_count": 532,
     "metadata": {},
     "output_type": "execute_result"
    }
   ],
   "source": [
    "calc_checksum('200800000')"
   ]
  },
  {
   "cell_type": "code",
   "execution_count": null,
   "id": "eefe8a66",
   "metadata": {},
   "outputs": [],
   "source": []
  },
  {
   "cell_type": "code",
   "execution_count": null,
   "id": "e6bd7d24",
   "metadata": {},
   "outputs": [],
   "source": []
  },
  {
   "cell_type": "code",
   "execution_count": null,
   "id": "d1f04473",
   "metadata": {},
   "outputs": [],
   "source": []
  },
  {
   "cell_type": "code",
   "execution_count": null,
   "id": "304414d3",
   "metadata": {},
   "outputs": [],
   "source": []
  },
  {
   "cell_type": "code",
   "execution_count": null,
   "id": "a7ea0108",
   "metadata": {},
   "outputs": [],
   "source": []
  },
  {
   "cell_type": "code",
   "execution_count": null,
   "id": "8de0f60a",
   "metadata": {},
   "outputs": [],
   "source": []
  },
  {
   "cell_type": "code",
   "execution_count": null,
   "id": "11718355",
   "metadata": {},
   "outputs": [],
   "source": []
  },
  {
   "cell_type": "code",
   "execution_count": null,
   "id": "aea56f96",
   "metadata": {},
   "outputs": [],
   "source": []
  },
  {
   "cell_type": "code",
   "execution_count": null,
   "id": "a5949893",
   "metadata": {},
   "outputs": [],
   "source": []
  },
  {
   "cell_type": "code",
   "execution_count": null,
   "id": "a22fab95",
   "metadata": {},
   "outputs": [],
   "source": []
  }
 ],
 "metadata": {
  "kernelspec": {
   "display_name": "Python 3",
   "language": "python",
   "name": "python3"
  },
  "language_info": {
   "codemirror_mode": {
    "name": "ipython",
    "version": 3
   },
   "file_extension": ".py",
   "mimetype": "text/x-python",
   "name": "python",
   "nbconvert_exporter": "python",
   "pygments_lexer": "ipython3",
   "version": "3.8.5"
  }
 },
 "nbformat": 4,
 "nbformat_minor": 5
}
