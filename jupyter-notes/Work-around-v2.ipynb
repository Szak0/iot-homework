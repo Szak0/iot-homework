{
 "cells": [
  {
   "cell_type": "code",
   "execution_count": 1188,
   "id": "eed527d3",
   "metadata": {},
   "outputs": [
    {
     "ename": "SyntaxError",
     "evalue": "invalid syntax (<ipython-input-1188-ceb1f2d5b8dd>, line 32)",
     "output_type": "error",
     "traceback": [
      "\u001b[0;36m  File \u001b[0;32m\"<ipython-input-1188-ceb1f2d5b8dd>\"\u001b[0;36m, line \u001b[0;32m32\u001b[0m\n\u001b[0;31m    'A': ' _ '+\u001b[0m\n\u001b[0m       ^\u001b[0m\n\u001b[0;31mSyntaxError\u001b[0m\u001b[0;31m:\u001b[0m invalid syntax\n"
     ]
    }
   ],
   "source": [
    "ACCOUNTING_NUMBERS = {\n",
    "    '1': '   '+\n",
    "         '  |'+\n",
    "         '  |',\n",
    "    '2': ' _ '+\n",
    "         ' _|'+\n",
    "         '|_ ',\n",
    "    '3': ' _ '+\n",
    "         ' _|'+\n",
    "         ' _|',\n",
    "    '4': ' _ '+\n",
    "         '|_|'+\n",
    "         '  |',\n",
    "    '5': ' _ '+\n",
    "         '|_ '+\n",
    "         ' _|',\n",
    "    '6': ' _ '+\n",
    "         '|_ '+\n",
    "         '|_|',\n",
    "    '7': ' _ '+\n",
    "         '  |'+\n",
    "         '  |',\n",
    "    '8': ' _ '+\n",
    "         '|_|'+\n",
    "         '|_|',\n",
    "    '9': ' _ '+\n",
    "         '|_|'+\n",
    "         ' _|',\n",
    "    '0': ' _ '+\n",
    "         '| |'+\n",
    "         '|_|'\n",
    "    'A': ' _ '+\n",
    "         '|_|'+\n",
    "         '| |'\n",
    "    'B': ' _ '+\n",
    "         '|_\\'+\n",
    "         '|_/'\n",
    "    'C': ' _ '+\n",
    "         '|  '+\n",
    "         '|_ '\n",
    "    'D': ' _ '+\n",
    "         '| \\'+\n",
    "         '|_/'\n",
    "    'E': ' _ '+\n",
    "         '|_ '+\n",
    "         '|_ '\n",
    "    'F': ' _ '+\n",
    "         '|_ '+\n",
    "         '|  '\n",
    "}\n",
    "\n",
    "REVERSED_DB = {v: k for k, v in ACCOUNTING_NUMBERS.items()}\n"
   ]
  },
  {
   "cell_type": "code",
   "execution_count": 1189,
   "id": "3a1b388f",
   "metadata": {},
   "outputs": [],
   "source": [
    "def get_data(filename='printer_output.txt'):\n",
    "    with open(filename, 'r') as data:\n",
    "        return data.read()"
   ]
  },
  {
   "cell_type": "code",
   "execution_count": 1190,
   "id": "63f83176",
   "metadata": {},
   "outputs": [],
   "source": [
    "def get_match(joined_actual_rows):\n",
    "    unknown = '?'\n",
    "    value = REVERSED_DB.get(joined_actual_rows, unknown)\n",
    "    return value"
   ]
  },
  {
   "cell_type": "code",
   "execution_count": 1191,
   "id": "dbb1edd2",
   "metadata": {},
   "outputs": [],
   "source": [
    "def collect_account_numbers(max_digit = 9):\n",
    "    entries = get_data().split('\\n\\n')\n",
    "    output = []\n",
    "    collection = []\n",
    "    for entry in entries:\n",
    "        collection_inner = []\n",
    "        start = 0\n",
    "        end = 3\n",
    "        number = ''\n",
    "        joined_actual_rows = ''\n",
    "        for i in range(max_digit):\n",
    "            current_digits = []\n",
    "            actual_rows = []\n",
    "            for row in entry.split('\\n'):\n",
    "                if len(row) > 0:\n",
    "                    current_slice = ''.join(row[start:end])\n",
    "                    actual_rows.append(current_slice)\n",
    "                    joined_actual_rows = ''.join(actual_rows)\n",
    "                    current_digits.append(joined_actual_rows)\n",
    "            \n",
    "            collection_inner.append(joined_actual_rows)\n",
    "            value = get_match(joined_actual_rows)\n",
    "            start += 3\n",
    "            end += 3\n",
    "            number += value\n",
    "        collection.append((collection_inner, number))\n",
    "        \n",
    "        start, end = 0, 3\n",
    "        output.append(number)\n",
    "        number = ''\n",
    "    print(collection)\n",
    "    return collection"
   ]
  },
  {
   "cell_type": "code",
   "execution_count": 1192,
   "id": "4fc36a20",
   "metadata": {},
   "outputs": [],
   "source": [
    "def save_to_file(entries):\n",
    "    with open('outfile.txt', 'w') as outfile:\n",
    "        for entry in entries:\n",
    "            outfile.write(entry[1] + '\\n')\n",
    "        outfile.close()\n",
    "    "
   ]
  },
  {
   "cell_type": "code",
   "execution_count": 1193,
   "id": "b5a1c3ee",
   "metadata": {},
   "outputs": [],
   "source": [
    "def replace_char_at_index(org_str, index, replacement):\n",
    "    new_str = org_str\n",
    "    if index < len(org_str):\n",
    "        new_str = org_str[0:index] + replacement + org_str[index + 1:]\n",
    "    return new_str"
   ]
  },
  {
   "cell_type": "code",
   "execution_count": 1194,
   "id": "0142395d",
   "metadata": {},
   "outputs": [],
   "source": [
    "def fix_illegible(current_malformed, validated, fixed_unvalid, current_number):\n",
    "    replacements = ['|', '_', ' ']\n",
    "\n",
    "    unknown = '?'\n",
    "    new_entry = current_malformed\n",
    "    for i in range(len(current_malformed)):\n",
    "        new_number = current_number\n",
    "        for replacement in replacements:\n",
    "            backup = new_entry\n",
    "            new_entry = replace_char_at_index(new_entry, i, replacement)\n",
    "            possible_number = get_match(new_entry)\n",
    "            if possible_number != unknown:\n",
    "                \n",
    "                new_number = replace_char_at_index(new_number, new_number.index(\"?\"), possible_number)\n",
    "                \n",
    "                if calc_checksum(new_number):\n",
    "                    validated.append(new_number)\n",
    "                else:\n",
    "                    fixed_unvalid.append((new_number + ' ERR', entry[0]))\n",
    "\n",
    "            new_entry = backup\n"
   ]
  },
  {
   "cell_type": "code",
   "execution_count": 1195,
   "id": "5a244fda",
   "metadata": {},
   "outputs": [],
   "source": [
    "def start_validation(illegible_items, validated):\n",
    "    fixed_unvalid = []\n",
    "    replacements = ['|', '_']\n",
    "    known_issues = ['9', '0', '1', '5']\n",
    "    space_char = ' '\n",
    "    unknown = '?'\n",
    "    for entry in illegible_items:\n",
    "        current_number = entry[0][0:9]\n",
    "        if unknown in current_number:\n",
    "            current_malformed = entry[1][current_number.index(\"?\")]\n",
    "            fix_illegible(current_malformed, validated, fixed_unvalid, current_number)\n",
    "        else:\n",
    "            fixed_unvalid.append(entry)\n",
    "            \n",
    "                            \n",
    "    print(fixed_unvalid)\n",
    "    "
   ]
  },
  {
   "cell_type": "code",
   "execution_count": 1196,
   "id": "1a150e3e",
   "metadata": {},
   "outputs": [],
   "source": [
    "def calc_checksum(entry_num):\n",
    "    valid = True\n",
    "    sum_ = 0\n",
    "    for i in range(1, len(entry_num)+1):\n",
    "        multi = 10 - i\n",
    "        num = entry_num[i - 1]\n",
    "        sum_ += multi * int(num)\n",
    "        valid = sum_ % 11 == 0\n",
    "    return valid"
   ]
  },
  {
   "cell_type": "code",
   "execution_count": 1197,
   "id": "516fe89d",
   "metadata": {},
   "outputs": [],
   "source": [
    "illegible_items = []\n",
    "validated = []\n",
    "def get_validate(entries):\n",
    "    for entry in entries:\n",
    "        entry_num = entry[1]\n",
    "        entry_string = entry[0]\n",
    "        print(entry_num)\n",
    "        if \"?\" in entry_num:\n",
    "            illegible = True\n",
    "        else:\n",
    "            illegible = False\n",
    "            valid = calc_checksum(entry_num)\n",
    "                \n",
    "        if illegible:\n",
    "            entry_num = f'%s %s' % (entry_num, ' ILL')\n",
    "            illegible_items.append((entry_num, entry_string))\n",
    "        elif not valid:\n",
    "            entry_num = f'%s %s' % (entry_num, ' ERR')\n",
    "            illegible_items.append((entry_num, entry_string))\n",
    "        else:\n",
    "            validated.append(entry_num)\n",
    "    \n",
    "    start_validation(illegible_items, validated)\n",
    "    \n",
    "    "
   ]
  },
  {
   "cell_type": "code",
   "execution_count": 1198,
   "id": "c5eb61c1",
   "metadata": {
    "scrolled": true
   },
   "outputs": [
    {
     "name": "stdout",
     "output_type": "stream",
     "text": [
      "[(['     |  |', ' _  _||_ ', ' _  _| _|', ' _ |_|  |', ' _ |_  _|', ' _ |_ |_|', ' _   |  |', ' _ |_||_|', ' _ |_| _|'], '123456789'), ([' _ | ||_|', ' _ | ||_|', ' _ | ||_|', ' _ | ||_|', ' _ | ||_|', ' _ | ||_|', ' _ | ||_|', ' _ | ||_|', ' _ | ||_|'], '000000000'), ([' _ |_ |_|', ' _ |_ |_|', ' _ |_ |_|', ' _ |_ |_|', ' _ |_ |_|', ' _ |_ |_|', ' _ |_ |_|', ' _ |_ |_|', ' _ |_ |_|'], '666666666'), ([' _ |_|  |', ' _ |_|  |', ' _ |_|  |', ' _ |_|  |', ' _ |_|  |', ' _ |_|  |', ' _ |_|  |', ' _ |_|  |', ' _ |_|  |'], '444444444'), ([' _ |_| _|', ' _ |_| _|', ' _ |_| _|', ' _ |_| _|', ' _ |_| _|', ' _ |_| _|', ' _ |_| _|', ' _ |_| _|', ' _ |_| _|'], '999999999'), (['   |_|  |', ' _ |_| _|', ' _ | ||_|', ' _ | ||_|', ' _ |_ |_|', ' _   |  |', ' _   |  |', '     |  |', ' _ |_  _|'], '?90067715'), ([' _ | ||_|', ' _ | ||_|', ' _ | ||_|', ' _ | ||_|', ' _ | ||_|', ' _ | ||_|', ' _ | ||_|', ' _ | ||_|', ' _ | ||_|'], '000000000'), (['     |  |', '     |  |', '     |  |', '     |  |', '     |  |', '     |  |', '     |  |', '     |  |', '     |  |'], '111111111'), ([' _  _||_ ', ' _  _||_ ', ' _  _||_ ', ' _  _||_ ', ' _  _||_ ', ' _  _||_ ', ' _  _||_ ', ' _  _||_ ', ' _  _||_ '], '222222222'), ([' _  _| _|', ' _  _| _|', ' _  _| _|', ' _  _| _|', ' _  _| _|', ' _  _| _|', ' _  _| _|', ' _  _| _|', ' _  _| _|'], '333333333'), (['   |_|  |', '   |_|  |', '   |_|  |', '   |_|  |', '   |_|  |', '   |_|  |', '   |_|  |', '   |_|  |', '   |_|  |'], '?????????'), ([' _ |_  _|', ' _ |_  _|', ' _ |_  _|', ' _ |_  _|', ' _ |_  _|', ' _ |_  _|', ' _ |_  _|', ' _ |_  _|', ' _ |_  _|'], '555555555'), ([' _ |_ |_|', ' _ |_ |_|', ' _ |_ |_|', ' _ |_ |_|', ' _ |_ |_|', ' _ |_ |_|', ' _ |_ |_|', ' _ |_ |_|', ' _ |_ |_|'], '666666666'), ([' _   |  |', ' _   |  |', ' _   |  |', ' _   |  |', ' _   |  |', ' _   |  |', ' _   |  |', ' _   |  |', ' _   |  |'], '777777777'), ([' _ |_||_|', ' _ |_||_|', ' _ |_||_|', ' _ |_||_|', ' _ |_||_|', ' _ |_||_|', ' _ |_||_|', ' _ |_||_|', ' _ |_||_|'], '888888888'), ([' _ |_| _|', ' _ |_| _|', ' _ |_| _|', ' _ |_| _|', ' _ |_| _|', ' _ |_| _|', ' _ |_| _|', ' _ |_| _|', ' _ |_| _|'], '999999999'), ([' _ | ||_|', ' _ | ||_|', ' _ | ||_|', ' _ | ||_|', ' _ | ||_|', ' _ | ||_|', ' _ | ||_|', ' _ |_  _|', '     |  |'], '000000051'), (['   |_|  |', ' _ |_| _|', ' _ | ||_|', ' _ | ||_|', ' _ |_ |_|', ' _   |  |', ' _   |  |', '     |  |', ' _  _  _|'], '?9006771?'), (['     |  |', '     |  |', '     |  |', '     |  |', '     |  |', '     |  |', '     |  |', '     |  |', '     |  |'], '111111111'), ([' _   |  |', ' _   |  |', ' _   |  |', ' _   |  |', ' _   |  |', ' _   |  |', ' _   |  |', ' _   |  |', ' _   |  |'], '777777777'), ([' _  _||_ ', ' _ | ||_|', ' _ | ||_|', ' _ | ||_|', ' _ | ||_|', ' _ | ||_|', ' _ | ||_|', ' _ | ||_|', ' _ | ||_|'], '200000000'), ([' _  _| _|', ' _  _| _|', ' _  _| _|', ' _  _| _|', ' _  _| _|', ' _  _| _|', ' _  _| _|', ' _  _| _|', ' _  _| _|'], '333333333'), ([' _ |_||_|', ' _ |_||_|', ' _ |_||_|', ' _ |_||_|', ' _ |_||_|', ' _ |_||_|', ' _ |_||_|', ' _ |_||_|', ' _ |_||_|'], '888888888'), ([' _ |_  _|', ' _ |_  _|', ' _ |_  _|', ' _ |_  _|', ' _ |_  _|', ' _ |_  _|', ' _ |_  _|', ' _ |_  _|', ' _ |_  _|'], '555555555'), ([' _ |_ |_|', ' _ |_ |_|', ' _ |_ |_|', ' _ |_ |_|', ' _ |_ |_|', ' _ |_ |_|', ' _ |_ |_|', ' _ |_ |_|', ' _ |_ |_|'], '666666666'), ([' _ |_| _|', ' _ |_| _|', ' _ |_| _|', ' _ |_| _|', ' _ |_| _|', ' _ |_| _|', ' _ |_| _|', ' _ |_| _|', ' _ |_| _|'], '999999999'), (['   |_|  |', ' _ |_| _|', ' _ | ||_|', ' _ | ||_|', ' _ |_ |_|', ' _   |  |', ' _   |  |', '     |  |', ' _ |_  _|'], '?90067715'), ([' _ | ||_|', '   | ||_|', ' _ | ||_|', ' _ | ||_|', ' _ | ||_|', ' _ | ||_|', ' _ | ||_|', ' _ |_  _|', '     |  |'], '0?0000051'), ([' _ |_|| |', ' _ |_\\\\|_/', ' _ |  |_ ', ' _ | ||_|', ' _ | ||_|', ' _ | ||_|', ' _ | ||_|', ' _ |_  _|', '     |  |'], '???000051'), ([' _ | \\\\|_/', ' _ |_ |_ ', ' _ |_ |  ', ' _ | ||_|', ' _ | ||_|', ' _ | ||_|', ' _ | ||_|', ' _ |_  _|', '     |  |'], '???000051')]\n",
      "123456789\n",
      "000000000\n",
      "666666666\n",
      "444444444\n",
      "999999999\n",
      "?90067715\n",
      "000000000\n",
      "111111111\n",
      "222222222\n",
      "333333333\n",
      "?????????\n",
      "555555555\n",
      "666666666\n",
      "777777777\n",
      "888888888\n",
      "999999999\n",
      "000000051\n",
      "?9006771?\n",
      "111111111\n",
      "777777777\n",
      "200000000\n",
      "333333333\n",
      "888888888\n",
      "555555555\n",
      "666666666\n",
      "999999999\n",
      "?90067715\n",
      "0?0000051\n",
      "???000051\n",
      "???000051\n"
     ]
    },
    {
     "ename": "ValueError",
     "evalue": "invalid literal for int() with base 10: '?'",
     "output_type": "error",
     "traceback": [
      "\u001b[0;31m---------------------------------------------------------------------------\u001b[0m",
      "\u001b[0;31mValueError\u001b[0m                                Traceback (most recent call last)",
      "\u001b[0;32m<ipython-input-1198-a29f1168cd05>\u001b[0m in \u001b[0;36m<module>\u001b[0;34m\u001b[0m\n\u001b[0;32m----> 1\u001b[0;31m \u001b[0mget_validate\u001b[0m\u001b[0;34m(\u001b[0m\u001b[0mentries\u001b[0m\u001b[0;34m=\u001b[0m\u001b[0mcollect_account_numbers\u001b[0m\u001b[0;34m(\u001b[0m\u001b[0;34m)\u001b[0m\u001b[0;34m)\u001b[0m\u001b[0;34m\u001b[0m\u001b[0;34m\u001b[0m\u001b[0m\n\u001b[0m",
      "\u001b[0;32m<ipython-input-1197-24cbd8184716>\u001b[0m in \u001b[0;36mget_validate\u001b[0;34m(entries)\u001b[0m\n\u001b[1;32m     21\u001b[0m             \u001b[0mvalidated\u001b[0m\u001b[0;34m.\u001b[0m\u001b[0mappend\u001b[0m\u001b[0;34m(\u001b[0m\u001b[0mentry_num\u001b[0m\u001b[0;34m)\u001b[0m\u001b[0;34m\u001b[0m\u001b[0;34m\u001b[0m\u001b[0m\n\u001b[1;32m     22\u001b[0m \u001b[0;34m\u001b[0m\u001b[0m\n\u001b[0;32m---> 23\u001b[0;31m     \u001b[0mstart_validation\u001b[0m\u001b[0;34m(\u001b[0m\u001b[0millegible_items\u001b[0m\u001b[0;34m,\u001b[0m \u001b[0mvalidated\u001b[0m\u001b[0;34m)\u001b[0m\u001b[0;34m\u001b[0m\u001b[0;34m\u001b[0m\u001b[0m\n\u001b[0m\u001b[1;32m     24\u001b[0m \u001b[0;34m\u001b[0m\u001b[0m\n\u001b[1;32m     25\u001b[0m \u001b[0;34m\u001b[0m\u001b[0m\n",
      "\u001b[0;32m<ipython-input-1195-2c62bf7480a2>\u001b[0m in \u001b[0;36mstart_validation\u001b[0;34m(illegible_items, validated)\u001b[0m\n\u001b[1;32m      9\u001b[0m         \u001b[0;32mif\u001b[0m \u001b[0munknown\u001b[0m \u001b[0;32min\u001b[0m \u001b[0mcurrent_number\u001b[0m\u001b[0;34m:\u001b[0m\u001b[0;34m\u001b[0m\u001b[0;34m\u001b[0m\u001b[0m\n\u001b[1;32m     10\u001b[0m             \u001b[0mcurrent_malformed\u001b[0m \u001b[0;34m=\u001b[0m \u001b[0mentry\u001b[0m\u001b[0;34m[\u001b[0m\u001b[0;36m1\u001b[0m\u001b[0;34m]\u001b[0m\u001b[0;34m[\u001b[0m\u001b[0mcurrent_number\u001b[0m\u001b[0;34m.\u001b[0m\u001b[0mindex\u001b[0m\u001b[0;34m(\u001b[0m\u001b[0;34m\"?\"\u001b[0m\u001b[0;34m)\u001b[0m\u001b[0;34m]\u001b[0m\u001b[0;34m\u001b[0m\u001b[0;34m\u001b[0m\u001b[0m\n\u001b[0;32m---> 11\u001b[0;31m             \u001b[0mfix_illegible\u001b[0m\u001b[0;34m(\u001b[0m\u001b[0mcurrent_malformed\u001b[0m\u001b[0;34m,\u001b[0m \u001b[0mvalidated\u001b[0m\u001b[0;34m,\u001b[0m \u001b[0mfixed_unvalid\u001b[0m\u001b[0;34m,\u001b[0m \u001b[0mcurrent_number\u001b[0m\u001b[0;34m)\u001b[0m\u001b[0;34m\u001b[0m\u001b[0;34m\u001b[0m\u001b[0m\n\u001b[0m\u001b[1;32m     12\u001b[0m         \u001b[0;32melse\u001b[0m\u001b[0;34m:\u001b[0m\u001b[0;34m\u001b[0m\u001b[0;34m\u001b[0m\u001b[0m\n\u001b[1;32m     13\u001b[0m             \u001b[0mfixed_unvalid\u001b[0m\u001b[0;34m.\u001b[0m\u001b[0mappend\u001b[0m\u001b[0;34m(\u001b[0m\u001b[0mentry\u001b[0m\u001b[0;34m)\u001b[0m\u001b[0;34m\u001b[0m\u001b[0;34m\u001b[0m\u001b[0m\n",
      "\u001b[0;32m<ipython-input-1194-feb8b653c0c1>\u001b[0m in \u001b[0;36mfix_illegible\u001b[0;34m(current_malformed, validated, fixed_unvalid, current_number)\u001b[0m\n\u001b[1;32m     14\u001b[0m                 \u001b[0mnew_number\u001b[0m \u001b[0;34m=\u001b[0m \u001b[0mreplace_char_at_index\u001b[0m\u001b[0;34m(\u001b[0m\u001b[0mnew_number\u001b[0m\u001b[0;34m,\u001b[0m \u001b[0mnew_number\u001b[0m\u001b[0;34m.\u001b[0m\u001b[0mindex\u001b[0m\u001b[0;34m(\u001b[0m\u001b[0;34m\"?\"\u001b[0m\u001b[0;34m)\u001b[0m\u001b[0;34m,\u001b[0m \u001b[0mpossible_number\u001b[0m\u001b[0;34m)\u001b[0m\u001b[0;34m\u001b[0m\u001b[0;34m\u001b[0m\u001b[0m\n\u001b[1;32m     15\u001b[0m \u001b[0;34m\u001b[0m\u001b[0m\n\u001b[0;32m---> 16\u001b[0;31m                 \u001b[0;32mif\u001b[0m \u001b[0mcalc_checksum\u001b[0m\u001b[0;34m(\u001b[0m\u001b[0mnew_number\u001b[0m\u001b[0;34m)\u001b[0m\u001b[0;34m:\u001b[0m\u001b[0;34m\u001b[0m\u001b[0;34m\u001b[0m\u001b[0m\n\u001b[0m\u001b[1;32m     17\u001b[0m                     \u001b[0mvalidated\u001b[0m\u001b[0;34m.\u001b[0m\u001b[0mappend\u001b[0m\u001b[0;34m(\u001b[0m\u001b[0mnew_number\u001b[0m\u001b[0;34m)\u001b[0m\u001b[0;34m\u001b[0m\u001b[0;34m\u001b[0m\u001b[0m\n\u001b[1;32m     18\u001b[0m                 \u001b[0;32melse\u001b[0m\u001b[0;34m:\u001b[0m\u001b[0;34m\u001b[0m\u001b[0;34m\u001b[0m\u001b[0m\n",
      "\u001b[0;32m<ipython-input-1196-64be30d44bd2>\u001b[0m in \u001b[0;36mcalc_checksum\u001b[0;34m(entry_num)\u001b[0m\n\u001b[1;32m      5\u001b[0m         \u001b[0mmulti\u001b[0m \u001b[0;34m=\u001b[0m \u001b[0;36m10\u001b[0m \u001b[0;34m-\u001b[0m \u001b[0mi\u001b[0m\u001b[0;34m\u001b[0m\u001b[0;34m\u001b[0m\u001b[0m\n\u001b[1;32m      6\u001b[0m         \u001b[0mnum\u001b[0m \u001b[0;34m=\u001b[0m \u001b[0mentry_num\u001b[0m\u001b[0;34m[\u001b[0m\u001b[0mi\u001b[0m \u001b[0;34m-\u001b[0m \u001b[0;36m1\u001b[0m\u001b[0;34m]\u001b[0m\u001b[0;34m\u001b[0m\u001b[0;34m\u001b[0m\u001b[0m\n\u001b[0;32m----> 7\u001b[0;31m         \u001b[0msum_\u001b[0m \u001b[0;34m+=\u001b[0m \u001b[0mmulti\u001b[0m \u001b[0;34m*\u001b[0m \u001b[0mint\u001b[0m\u001b[0;34m(\u001b[0m\u001b[0mnum\u001b[0m\u001b[0;34m)\u001b[0m\u001b[0;34m\u001b[0m\u001b[0;34m\u001b[0m\u001b[0m\n\u001b[0m\u001b[1;32m      8\u001b[0m         \u001b[0mvalid\u001b[0m \u001b[0;34m=\u001b[0m \u001b[0msum_\u001b[0m \u001b[0;34m%\u001b[0m \u001b[0;36m11\u001b[0m \u001b[0;34m==\u001b[0m \u001b[0;36m0\u001b[0m\u001b[0;34m\u001b[0m\u001b[0;34m\u001b[0m\u001b[0m\n\u001b[1;32m      9\u001b[0m     \u001b[0;32mreturn\u001b[0m \u001b[0mvalid\u001b[0m\u001b[0;34m\u001b[0m\u001b[0;34m\u001b[0m\u001b[0m\n",
      "\u001b[0;31mValueError\u001b[0m: invalid literal for int() with base 10: '?'"
     ]
    }
   ],
   "source": [
    "get_validate(entries=collect_account_numbers())\n"
   ]
  },
  {
   "cell_type": "code",
   "execution_count": 1199,
   "id": "0e8817ff",
   "metadata": {
    "scrolled": true
   },
   "outputs": [
    {
     "ename": "SyntaxError",
     "evalue": "invalid syntax (<ipython-input-1199-d80606eab30c>, line 1)",
     "output_type": "error",
     "traceback": [
      "\u001b[0;36m  File \u001b[0;32m\"<ipython-input-1199-d80606eab30c>\"\u001b[0;36m, line \u001b[0;32m1\u001b[0m\n\u001b[0;31m    ``` _  _  _\u001b[0m\n\u001b[0m    ^\u001b[0m\n\u001b[0;31mSyntaxError\u001b[0m\u001b[0;31m:\u001b[0m invalid syntax\n"
     ]
    }
   ],
   "source": [
    "``` _  _  _\n",
    "|_||_\\| \n",
    "| ||_/|_\n",
    "\n",
    " _   _  _\n",
    "| \\ |_ |_ \n",
    "|_/ |_ | \n",
    "```\n"
   ]
  },
  {
   "cell_type": "code",
   "execution_count": 1200,
   "id": "15217a4b",
   "metadata": {},
   "outputs": [],
   "source": [
    "save_to_file(validated)"
   ]
  },
  {
   "cell_type": "code",
   "execution_count": null,
   "id": "77951996",
   "metadata": {},
   "outputs": [],
   "source": []
  },
  {
   "cell_type": "code",
   "execution_count": null,
   "id": "775dfa6c",
   "metadata": {},
   "outputs": [],
   "source": [
    "#print('Found possibility: ' + possible_number)\n",
    "#print(new_entry[0:3] + '\\n' + new_entry[3:6] + '\\n' + new_entry[6:9] + '\\n')\n",
    "new_number = replace_char_at_index(new_number, new_number.index(\"?\"), possible_number)\n",
    "#print('The checksum is: ' + str(calc_checksum(new_number)))"
   ]
  }
 ],
 "metadata": {
  "kernelspec": {
   "display_name": "Python 3",
   "language": "python",
   "name": "python3"
  },
  "language_info": {
   "codemirror_mode": {
    "name": "ipython",
    "version": 3
   },
   "file_extension": ".py",
   "mimetype": "text/x-python",
   "name": "python",
   "nbconvert_exporter": "python",
   "pygments_lexer": "ipython3",
   "version": "3.8.5"
  }
 },
 "nbformat": 4,
 "nbformat_minor": 5
}
