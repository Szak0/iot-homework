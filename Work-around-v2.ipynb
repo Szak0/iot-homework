{
 "cells": [
  {
   "cell_type": "code",
   "execution_count": 67,
   "id": "eed527d3",
   "metadata": {},
   "outputs": [],
   "source": [
    "ACCOUNTING_NUMBERS = {\n",
    "    '1': '   '+\n",
    "         '  |'+\n",
    "         '  |',\n",
    "    '2': ' _ '+\n",
    "         ' _|'+\n",
    "         '|_ ',\n",
    "    '3': ' _ '+\n",
    "         ' _|'+\n",
    "         ' _|',\n",
    "    '4': ' _ '+\n",
    "         '|_|'+\n",
    "         '  |',\n",
    "    '5': ' _ '+\n",
    "         '|_ '+\n",
    "         ' _|',\n",
    "    '6': ' _ '+\n",
    "         '|_ '+\n",
    "         '|_|',\n",
    "    '7': ' _ '+\n",
    "         '  |'+\n",
    "         '  |',\n",
    "    '8': ' _ '+\n",
    "         '|_|'+\n",
    "         '|_|',\n",
    "    '9': ' _ '+\n",
    "         '|_|'+\n",
    "         ' _|',\n",
    "    '0': ' _ '+\n",
    "         '| |'+\n",
    "         '|_|'\n",
    "}\n",
    "\n",
    "REVERSED_DB = {v: k for k, v in ACCOUNTING_NUMBERS.items()}\n"
   ]
  },
  {
   "cell_type": "code",
   "execution_count": 68,
   "id": "3a1b388f",
   "metadata": {},
   "outputs": [],
   "source": [
    "def get_data(filename='printer_output.txt'):\n",
    "    with open(filename, 'r') as data:\n",
    "        return data.read()"
   ]
  },
  {
   "cell_type": "code",
   "execution_count": 113,
   "id": "63f83176",
   "metadata": {},
   "outputs": [],
   "source": [
    "def get_match(joined_actual_rows):\n",
    "    unknown = '?'\n",
    "    value = REVERSED_DB.get(joined_actual_rows, unknown)\n",
    "    return value"
   ]
  },
  {
   "cell_type": "code",
   "execution_count": 253,
   "id": "dbb1edd2",
   "metadata": {},
   "outputs": [],
   "source": [
    "def collect_account_numbers(max_digit = 9):\n",
    "    entries = get_data().split('\\n\\n')\n",
    "    output = []\n",
    "    collection = []\n",
    "    for entry in entries:\n",
    "        collection_inner = []\n",
    "        start = 0\n",
    "        end = 3\n",
    "        number = ''\n",
    "        joined_actual_rows = ''\n",
    "        for i in range(max_digit):\n",
    "            current_digits = []\n",
    "            actual_rows = []\n",
    "            for row in entry.split('\\n'):\n",
    "                if len(row) > 0:\n",
    "                    current_slice = ''.join(row[start:end])\n",
    "                    actual_rows.append(current_slice)\n",
    "                    joined_actual_rows = ''.join(actual_rows)\n",
    "                    current_digits.append(joined_actual_rows)\n",
    "            \n",
    "            collection_inner.append(joined_actual_rows)\n",
    "            value = get_match(joined_actual_rows)\n",
    "            start += 3\n",
    "            end += 3\n",
    "            number += value\n",
    "        collection.append((collection_inner, number))\n",
    "        \n",
    "        start, end = 0, 3\n",
    "        output.append(number)\n",
    "        number = ''\n",
    "    return collection"
   ]
  },
  {
   "cell_type": "code",
   "execution_count": 254,
   "id": "7fd4c21d",
   "metadata": {
    "scrolled": true
   },
   "outputs": [
    {
     "name": "stdout",
     "output_type": "stream",
     "text": [
      "[(['     |  |', ' _  _||_ ', ' _  _| _|', ' _ |_|  |', ' _ |_  _|', ' _ |_ |_|', ' _   |  |', ' _ |_||_|', ' _ |_| _|'], '123456789'), ([' _ | ||_|', ' _ | ||_|', ' _ | ||_|', ' _ | ||_|', ' _ | ||_|', ' _ | ||_|', ' _ | ||_|', ' _ | ||_|', ' _ | ||_|'], '000000000'), ([' _ |_ |_|', ' _ |_ |_|', ' _ |_ |_|', ' _ |_ |_|', ' _ |_ |_|', ' _ |_ |_|', ' _ |_ |_|', ' _ |_ |_|', ' _ |_ |_|'], '666666666'), ([' _ |_|  |', ' _ |_|  |', ' _ |_|  |', ' _ |_|  |', ' _ |_|  |', ' _ |_|  |', ' _ |_|  |', ' _ |_|  |', ' _ |_|  |'], '444444444'), ([' _ |_| _|', ' _ |_| _|', ' _ |_| _|', ' _ |_| _|', ' _ |_| _|', ' _ |_| _|', ' _ |_| _|', ' _ |_| _|', '   |_| _|'], '99999999?'), (['   |_|  |', ' _ |_| _|', ' _ | ||_|', ' _ | ||_|', ' _ |_ |_|', ' _   |  |', ' _   |  |', '     |  |', ' _ |_  _|'], '?90067715')]\n"
     ]
    }
   ],
   "source": [
    "print(collect_account_numbers())"
   ]
  },
  {
   "cell_type": "code",
   "execution_count": 413,
   "id": "5a244fda",
   "metadata": {},
   "outputs": [],
   "source": [
    "def fix_validation(illegible_items):\n",
    "    print(illegible_items)\n",
    "    missing_elements = ['|', '_']\n",
    "    for entry in illegible_items:\n",
    "        current_number = entry[0][0:9]\n",
    "        current_string = entry[1]\n",
    "        if \"?\" in current_number:\n",
    "            current_malformed = entry[1][current_number.index(\"?\")]\n",
    "            for i in range(len(current_malformed)):\n",
    "                print(current_malformed[i])\n",
    "                \n",
    "        else:\n",
    "            print(current_number)\n",
    "        for i in range(len(current_number)):\n",
    "            pass"
   ]
  },
  {
   "cell_type": "code",
   "execution_count": 414,
   "id": "029a6cc1",
   "metadata": {},
   "outputs": [],
   "source": [
    "def calc_checksum(entry_num):\n",
    "    valid = True\n",
    "    sum = 0\n",
    "    for i in range(1, len(entry_num)+1):\n",
    "        multi = 10 - i\n",
    "        num = entry_num[i - 1]\n",
    "        sum += multi * int(num)\n",
    "        valid = sum % 11 == 0\n",
    "    return valid"
   ]
  },
  {
   "cell_type": "code",
   "execution_count": 415,
   "id": "964d1713",
   "metadata": {},
   "outputs": [],
   "source": [
    "illegible_items = []\n",
    "validated = []\n",
    "def get_validate(entries):\n",
    "    for entry in entries:\n",
    "        entry_num = entry[1]\n",
    "        entry_string = entry[0]\n",
    "        if \"?\" in entry_num:\n",
    "            illegible = True\n",
    "        else:\n",
    "            illegible = False\n",
    "            valid = calc_checksum(entry_num)\n",
    "                \n",
    "        if illegible:\n",
    "            entry_num = f'%s %s' % (entry_num, ' ILL')\n",
    "            illegible_items.append((entry_num, entry_string))\n",
    "        elif not valid:\n",
    "            entry_num = f'%s %s' % (entry_num, ' ERR')\n",
    "            illegible_items.append((entry_num, entry_string))\n",
    "        else:\n",
    "            validated.append(entry_num)\n",
    "            \n",
    "    fix_validation(illegible_items)\n",
    "    \n",
    "    \n",
    "    "
   ]
  },
  {
   "cell_type": "code",
   "execution_count": 416,
   "id": "c5eb61c1",
   "metadata": {
    "scrolled": true
   },
   "outputs": [
    {
     "name": "stdout",
     "output_type": "stream",
     "text": [
      "[('666666666  ERR', [' _ |_ |_|', ' _ |_ |_|', ' _ |_ |_|', ' _ |_ |_|', ' _ |_ |_|', ' _ |_ |_|', ' _ |_ |_|', ' _ |_ |_|', ' _ |_ |_|']), ('444444444  ERR', [' _ |_|  |', ' _ |_|  |', ' _ |_|  |', ' _ |_|  |', ' _ |_|  |', ' _ |_|  |', ' _ |_|  |', ' _ |_|  |', ' _ |_|  |']), ('99999999?  ILL', [' _ |_| _|', ' _ |_| _|', ' _ |_| _|', ' _ |_| _|', ' _ |_| _|', ' _ |_| _|', ' _ |_| _|', ' _ |_| _|', '   |_| _|']), ('?90067715  ILL', ['   |_|  |', ' _ |_| _|', ' _ | ||_|', ' _ | ||_|', ' _ |_ |_|', ' _   |  |', ' _   |  |', '     |  |', ' _ |_  _|'])]\n",
      "666666666\n",
      "444444444\n",
      " \n",
      " \n",
      " \n",
      "|\n",
      "_\n",
      "|\n",
      " \n",
      "_\n",
      "|\n",
      " \n",
      " \n",
      " \n",
      "|\n",
      "_\n",
      "|\n",
      " \n",
      " \n",
      "|\n"
     ]
    }
   ],
   "source": [
    "get_validate(entries=collect_account_numbers())\n"
   ]
  },
  {
   "cell_type": "code",
   "execution_count": 228,
   "id": "4fc36a20",
   "metadata": {},
   "outputs": [],
   "source": [
    "def save_to_file(entries):\n",
    "    with open('outfile.txt', 'w') as outfile:\n",
    "        for entry in entries:\n",
    "            outfile.write(entry[1] + '\\n')\n",
    "        outfile.close()\n",
    "    "
   ]
  },
  {
   "cell_type": "code",
   "execution_count": 279,
   "id": "0e8817ff",
   "metadata": {
    "scrolled": true
   },
   "outputs": [],
   "source": []
  },
  {
   "cell_type": "code",
   "execution_count": 278,
   "id": "15217a4b",
   "metadata": {},
   "outputs": [],
   "source": [
    "save_to_file(validated)"
   ]
  },
  {
   "cell_type": "code",
   "execution_count": null,
   "id": "91b51824",
   "metadata": {},
   "outputs": [],
   "source": []
  }
 ],
 "metadata": {
  "kernelspec": {
   "display_name": "Python 3",
   "language": "python",
   "name": "python3"
  },
  "language_info": {
   "codemirror_mode": {
    "name": "ipython",
    "version": 3
   },
   "file_extension": ".py",
   "mimetype": "text/x-python",
   "name": "python",
   "nbconvert_exporter": "python",
   "pygments_lexer": "ipython3",
   "version": "3.8.5"
  }
 },
 "nbformat": 4,
 "nbformat_minor": 5
}
